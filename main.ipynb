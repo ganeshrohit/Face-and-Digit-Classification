{
 "cells": [
  {
   "cell_type": "code",
   "execution_count": 1,
   "metadata": {},
   "outputs": [],
   "source": [
    "import util, perceptron, nb, samples"
   ]
  },
  {
   "cell_type": "code",
   "execution_count": 2,
   "metadata": {},
   "outputs": [],
   "source": [
    "DIGIT_DATUM_WIDTH=28\n",
    "DIGIT_DATUM_HEIGHT=28\n",
    "FACE_DATUM_WIDTH=60\n",
    "FACE_DATUM_HEIGHT=70"
   ]
  },
  {
   "cell_type": "code",
   "execution_count": 3,
   "metadata": {},
   "outputs": [],
   "source": [
    "def analysis(classifier, guesses, testLabels, testData, rawTestData, printImage):\n",
    "  \"\"\"\n",
    "  This function is called after learning.\n",
    "  Include any code that you want here to help you analyze your results.\n",
    "  \n",
    "  Use the printImage(<list of pixels>) function to visualize features.\n",
    "  \n",
    "  An example of use has been given to you.\n",
    "  \n",
    "  - classifier is the trained classifier\n",
    "  - guesses is the list of labels predicted by your classifier on the test set\n",
    "  - testLabels is the list of true labels\n",
    "  - testData is the list of training datapoints (as util.Counter of features)\n",
    "  - rawTestData is the list of training datapoints (as samples.Datum)\n",
    "  - printImage is a method to visualize the features \n",
    "  (see its use in the odds ratio part in runClassifier method)\n",
    "  \n",
    "  This code won't be evaluated. It is for your own optional use\n",
    "  (and you can modify the signature if you want).\n",
    "  \"\"\"\n",
    "  \n",
    "  # Put any code here...\n",
    "  # Example of use:\n",
    "  for i in range(len(guesses)):\n",
    "      prediction = guesses[i]\n",
    "      truth = testLabels[i]\n",
    "      if (prediction != truth):\n",
    "          print(\"===================================\")\n",
    "          print(\"Mistake on example %d\" % i) \n",
    "          print(\"Predicted %d; truth is %d\" % (prediction, truth))\n",
    "          print(\"Image: \")\n",
    "          print(rawTestData[i])\n",
    "          break"
   ]
  },
  {
   "cell_type": "code",
   "execution_count": 4,
   "metadata": {},
   "outputs": [],
   "source": [
    "def basicFeatureExtractorDigit(datum):\n",
    "  \"\"\"\n",
    "  Returns a set of pixel features indicating whether\n",
    "  each pixel in the provided datum is white (0) or gray/black (1)\n",
    "  \"\"\"\n",
    "  a = datum.getPixels()\n",
    "\n",
    "  features = util.Counter()\n",
    "  for x in range(DIGIT_DATUM_WIDTH):\n",
    "    for y in range(DIGIT_DATUM_HEIGHT):\n",
    "      if datum.getPixel(x, y) > 0:\n",
    "        features[(x,y)] = 1\n",
    "      else:\n",
    "        features[(x,y)] = 0\n",
    "  return features\n",
    "\n",
    "def basicFeatureExtractorFace(datum):\n",
    "  \"\"\"\n",
    "  Returns a set of pixel features indicating whether\n",
    "  each pixel in the provided datum is an edge (1) or no edge (0)\n",
    "  \"\"\"\n",
    "  a = datum.getPixels()\n",
    "\n",
    "  features = util.Counter()\n",
    "  for x in range(FACE_DATUM_WIDTH):\n",
    "    for y in range(FACE_DATUM_HEIGHT):\n",
    "      if datum.getPixel(x, y) > 0:\n",
    "        features[(x,y)] = 1\n",
    "      else:\n",
    "        features[(x,y)] = 0\n",
    "  return features"
   ]
  },
  {
   "cell_type": "code",
   "execution_count": 5,
   "metadata": {},
   "outputs": [],
   "source": [
    "ITERATIONS = 10\n",
    "DATASET = 'faces' # 'digits' or 'faces'\n",
    "TRAIN_PERCENT = 10\n",
    "TEST_PERCENT = 100\n",
    "CLASSIFIER = 'Perceptron' # 'Perceptron' or 'NaiveBayes'\n"
   ]
  },
  {
   "cell_type": "code",
   "execution_count": 6,
   "metadata": {},
   "outputs": [],
   "source": [
    "classifiers = {'Perceptron': perceptron.Perceptron,\n",
    "               'NaiveBayes': nb.NaiveBayesClassifier}\n",
    "\n",
    "features = {'digits': basicFeatureExtractorDigit, 'faces': basicFeatureExtractorFace}"
   ]
  },
  {
   "cell_type": "code",
   "execution_count": 7,
   "metadata": {},
   "outputs": [],
   "source": [
    "DATUM_WIDTH = DIGIT_DATUM_WIDTH if DATASET == 'digits' else FACE_DATUM_WIDTH\n",
    "DATUM_HEIGHT = DIGIT_DATUM_HEIGHT if DATASET == 'digits' else FACE_DATUM_HEIGHT\n",
    "legalLabels = list(range(10)) if DATASET == 'digits' else list(range(2))\n",
    "numTraining = 5000 if DATASET == 'digits' else 451\n",
    "numTest = 1000 if DATASET == 'digits' else 150\n",
    "numTraining = int(numTraining * TRAIN_PERCENT / 100)\n",
    "numTest = int(numTest * TEST_PERCENT / 100)\n",
    "getFeatures = features[DATASET]"
   ]
  },
  {
   "cell_type": "code",
   "execution_count": 8,
   "metadata": {},
   "outputs": [
    {
     "data": {
      "text/plain": [
       "60"
      ]
     },
     "execution_count": 8,
     "metadata": {},
     "output_type": "execute_result"
    }
   ],
   "source": [
    "DATUM_WIDTH"
   ]
  },
  {
   "cell_type": "code",
   "execution_count": 9,
   "metadata": {},
   "outputs": [],
   "source": [
    "if(DATASET==\"faces\"):\n",
    "    rawTrainingData = samples.loadDataFile(\"data/facedata/facedatatrain\", numTraining,DATUM_WIDTH,DATUM_HEIGHT)\n",
    "    trainingLabels = samples.loadLabelsFile(\"data/facedata/facedatatrainlabels\", numTraining)\n",
    "    rawValidationData = samples.loadDataFile(\"data/facedata/facedatatrain\", numTest,DATUM_WIDTH,DATUM_HEIGHT)\n",
    "    validationLabels = samples.loadLabelsFile(\"data/facedata/facedatatrainlabels\", numTest)\n",
    "    rawTestData = samples.loadDataFile(\"data/facedata/facedatatest\", numTest,DATUM_WIDTH,DATUM_HEIGHT)\n",
    "    testLabels = samples.loadLabelsFile(\"data/facedata/facedatatestlabels\", numTest)\n",
    "else:\n",
    "    rawTrainingData = samples.loadDataFile(\"data/digitdata/trainingimages\", numTraining,DATUM_WIDTH,DATUM_HEIGHT)\n",
    "    trainingLabels = samples.loadLabelsFile(\"data/digitdata/traininglabels\", numTraining)\n",
    "    rawValidationData = samples.loadDataFile(\"data/digitdata/validationimages\", numTest,DATUM_WIDTH,DATUM_HEIGHT)\n",
    "    validationLabels = samples.loadLabelsFile(\"data/digitdata/validationlabels\", numTest)\n",
    "    rawTestData = samples.loadDataFile(\"data/digitdata/testimages\", numTest,DATUM_WIDTH,DATUM_HEIGHT)\n",
    "    testLabels = samples.loadLabelsFile(\"data/digitdata/testlabels\", numTest)"
   ]
  },
  {
   "cell_type": "code",
   "execution_count": 10,
   "metadata": {},
   "outputs": [],
   "source": [
    "printImage = util.ImagePrinter(DATUM_WIDTH, DATUM_HEIGHT).printImage"
   ]
  },
  {
   "cell_type": "code",
   "execution_count": 11,
   "metadata": {},
   "outputs": [
    {
     "data": {
      "text/plain": [
       "<bound method ImagePrinter.printImage of <util.ImagePrinter object at 0x7fd590eda050>>"
      ]
     },
     "execution_count": 11,
     "metadata": {},
     "output_type": "execute_result"
    }
   ],
   "source": [
    "printImage"
   ]
  },
  {
   "cell_type": "code",
   "execution_count": 12,
   "metadata": {},
   "outputs": [],
   "source": [
    "trainingData = list(map(getFeatures, rawTrainingData))\n",
    "validationData = list(map(getFeatures, rawValidationData))\n",
    "testData = list(map(getFeatures, rawTestData))"
   ]
  },
  {
   "cell_type": "code",
   "execution_count": 13,
   "metadata": {},
   "outputs": [],
   "source": [
    "classifier = classifiers[CLASSIFIER](legalLabels, max_iterations=ITERATIONS)"
   ]
  },
  {
   "cell_type": "code",
   "execution_count": 14,
   "metadata": {},
   "outputs": [
    {
     "name": "stdout",
     "output_type": "stream",
     "text": [
      "Starting iteration  0 ...\n",
      "Starting iteration  1 ...\n",
      "Starting iteration  2 ...\n",
      "Starting iteration  3 ...\n",
      "Starting iteration  4 ...\n",
      "Starting iteration  5 ...\n",
      "Starting iteration  6 ...\n",
      "Starting iteration  7 ...\n",
      "Starting iteration  8 ...\n",
      "Starting iteration  9 ...\n",
      "91 correct out of 150 (60.7%).\n"
     ]
    }
   ],
   "source": [
    "classifier.train(trainingData, trainingLabels, validationData, validationLabels)\n",
    "guesses = classifier.classify(testData)\n",
    "correct = [guesses[i] == testLabels[i] for i in range(len(testLabels))].count(True)\n",
    "print(str(correct), (\"correct out of \" + str(len(testLabels)) + \" (%.1f%%).\") % (100.0 * correct / len(testLabels)))"
   ]
  },
  {
   "cell_type": "code",
   "execution_count": 15,
   "metadata": {},
   "outputs": [
    {
     "name": "stdout",
     "output_type": "stream",
     "text": [
      "===================================\n",
      "Mistake on example 0\n",
      "Predicted 0; truth is 1\n",
      "Image: \n",
      "                                                            \n",
      " ####                                                       \n",
      "     ###                      #                             \n",
      "        ####                ## #                            \n",
      "            ######         #    #                           \n",
      "                  #########      ######                     \n",
      " #                                     ##                   \n",
      "  #                #         ##          #                  \n",
      "  #               #         #  #          #                 \n",
      "  #               #         #   #          #                \n",
      " #                 #  ######    #          #                \n",
      " #                  ##          #           #               \n",
      " #                 #            #            #              \n",
      " #             ####                           #             \n",
      "                                              #             \n",
      "             #                                #             \n",
      "            #      ###############            #             \n",
      "           #      #               ####       #              \n",
      "           #     #                    #     #               \n",
      "          #     #                      #    #    #          \n",
      "          #     #                       #        #          \n",
      "          #    #                         #       #          \n",
      "          #    #                         #        #         \n",
      "         #     #                          #       #         \n",
      "         #    #                           #       #         \n",
      "         #    #                           #       #         \n",
      " #       #    #                           #      #          \n",
      " #       #   #                   ######   #      #          \n",
      " #       #   #   #    ##      ###          #     #          \n",
      " #        #  #    #     ###  #             #     #          \n",
      " #        #  #     ##       #       #      #     #          \n",
      " #        #  #    #  #      #     ##       #    #           \n",
      "  #       #  #       #      #    #         #    #           \n",
      "  #       #   #   #  #      #    #         #    #           \n",
      "  #       #   #  # ##       #     #####   #    #            \n",
      "  #           #             #   #         #   ##            \n",
      "  #           #        #    #   #         #  #  #           \n",
      "  #           #        #    #   #        #   #  #        ## \n",
      "  #            #      #     #   #        #  #   #       #   \n",
      "               #      #     #   #        #  #  #       #    \n",
      "               #      #    #   #        #   #  #       #    \n",
      "               #      #    #   #        #  #   #       #    \n",
      "             # #      #    #  ##        #  #  #        #    \n",
      " #          #  #      #     ##  #       #     #        #    \n",
      " #          #        #                  #    #         #    \n",
      " #           #       #                  #   #           #   \n",
      " #            #      #   ########       # ##            #   \n",
      " #             #     #           #      #               #   \n",
      " #              #     #         #      #        #       #   \n",
      " #              #      ##     ##      #         #       #   \n",
      " #              #        #####       #    #     #       #   \n",
      " #               #                  #     #    #       #    \n",
      " #               #                 #      #    #       #    \n",
      " #                ####           ##        #   #       #    \n",
      " #                    ##      ###          #   #       #    \n",
      "                  #     ######         #   #           #    \n",
      "                  #                   #     #          #    \n",
      "                 ###                  #   #  #         #    \n",
      "                #                     #   #  #          #   \n",
      "               #     #               #     #  #         #   \n",
      "               #     #              #          #        #   \n",
      "              #       #  ######    #        #   #           \n",
      "             #         ##      ####        #     ##         \n",
      "             #   #                         #       ###      \n",
      "           ##    #                        #           ##    \n",
      "         ##      #                        #             #   \n",
      "        #         #                      #               ## \n",
      "      ##          #                      #                  \n",
      "    ##             #                    #                   \n",
      "                                                            \n"
     ]
    }
   ],
   "source": [
    "analysis(classifier, guesses, testLabels, testData, rawTestData, printImage)"
   ]
  },
  {
   "cell_type": "code",
   "execution_count": null,
   "metadata": {},
   "outputs": [],
   "source": []
  }
 ],
 "metadata": {
  "kernelspec": {
   "display_name": "Python 3.7.9 ('520')",
   "language": "python",
   "name": "python3"
  },
  "language_info": {
   "codemirror_mode": {
    "name": "ipython",
    "version": 3
   },
   "file_extension": ".py",
   "mimetype": "text/x-python",
   "name": "python",
   "nbconvert_exporter": "python",
   "pygments_lexer": "ipython3",
   "version": "3.7.15"
  },
  "orig_nbformat": 4,
  "vscode": {
   "interpreter": {
    "hash": "43f9b55965bbaea6174108c2c76162f3be9f14dfec06e67a4afd6bceaf9c8251"
   }
  }
 },
 "nbformat": 4,
 "nbformat_minor": 2
}
