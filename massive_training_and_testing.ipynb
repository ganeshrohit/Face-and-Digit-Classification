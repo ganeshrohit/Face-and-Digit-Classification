{
 "cells": [
  {
   "cell_type": "code",
   "execution_count": 3,
   "metadata": {},
   "outputs": [
    {
     "name": "stdout",
     "output_type": "stream",
     "text": [
      "Requirement already satisfied: dill in /opt/homebrew/lib/python3.10/site-packages (0.3.6)\n",
      "\n",
      "\u001b[1m[\u001b[0m\u001b[34;49mnotice\u001b[0m\u001b[1;39;49m]\u001b[0m\u001b[39;49m A new release of pip available: \u001b[0m\u001b[31;49m22.2.2\u001b[0m\u001b[39;49m -> \u001b[0m\u001b[32;49m22.3.1\u001b[0m\n",
      "\u001b[1m[\u001b[0m\u001b[34;49mnotice\u001b[0m\u001b[1;39;49m]\u001b[0m\u001b[39;49m To update, run: \u001b[0m\u001b[32;49mpython3.10 -m pip install --upgrade pip\u001b[0m\n"
     ]
    }
   ],
   "source": [
    "import util, perceptron, nb, samples\n",
    "from sklearn.svm import SVC\n",
    "import numpy as np\n",
    "import random\n",
    "!pip3 install dill\n",
    "import dill\n",
    "import time"
   ]
  },
  {
   "cell_type": "code",
   "execution_count": 4,
   "metadata": {},
   "outputs": [],
   "source": [
    "DIGIT_DATUM_WIDTH=28\n",
    "DIGIT_DATUM_HEIGHT=28\n",
    "FACE_DATUM_WIDTH=60\n",
    "FACE_DATUM_HEIGHT=70\n",
    "\n",
    "DATUM_WIDTH = DIGIT_DATUM_WIDTH\n",
    "DATUM_HEIGHT = DIGIT_DATUM_HEIGHT\n",
    "\n",
    "ITERATIONS = 10\n",
    "DATASET = 'digits' # 'digits' or 'faces'\n",
    "TRAIN_PERCENT = 100\n",
    "TEST_PERCENT = 100\n",
    "CLASSIFIER = 'NaiveBayes' # 'Perceptron' or 'NaiveBayes'\n",
    "UseNewFeatureExtractor = False\n",
    "\n",
    "classifiers = {'Perceptron': perceptron.Perceptron,\n",
    "               'NaiveBayes': nb.NaiveBayesClassifier}\n",
    "\n",
    "\n",
    "\n",
    "\n",
    "numTraining = 5000 if DATASET == 'digits' else 451\n",
    "numTest = 1000 if DATASET == 'digits' else 150\n",
    "# numTraining = int(numTraining * TRAIN_PERCENT / 100)\n",
    "# numTest = int(numTest * TEST_PERCENT / 100)\n",
    "# getFeatures = features[DATASET]"
   ]
  },
  {
   "cell_type": "code",
   "execution_count": 5,
   "metadata": {},
   "outputs": [],
   "source": [
    "def modifyFeatures(datapoint):\n",
    "    global DATUM_WIDTH, DATUM_HEIGHT\n",
    "    data = ([[None for i in range(DATUM_WIDTH)] for j in range(DATUM_HEIGHT)])\n",
    "    for i in range(len(data)):\n",
    "        for j in range(len(data[i])):\n",
    "            data[i][j] = datapoint[(i,j)]\n",
    "    return np.array(data)\n",
    "  \n",
    "  \n",
    "def basicFeatureExtractorDigit(datum):\n",
    "  \"\"\"\n",
    "  Returns a set of pixel features indicating whether\n",
    "  each pixel in the provided datum is white (0) or gray/black (1)\n",
    "  \"\"\"\n",
    "  a = datum.getPixels()\n",
    "\n",
    "  features = util.Counter()\n",
    "  for x in range(DIGIT_DATUM_WIDTH):\n",
    "    for y in range(DIGIT_DATUM_HEIGHT):\n",
    "      if datum.getPixel(x, y) > 0:\n",
    "        features[(x,y)] = 1\n",
    "      else:\n",
    "        features[(x,y)] = 0\n",
    "  return features\n",
    "\n",
    "def fourSquareFeatureExtractorDigit(datum):\n",
    "  features = util.Counter()\n",
    "  for x in range(0,DIGIT_DATUM_WIDTH,4):\n",
    "    for y in range(0,DIGIT_DATUM_HEIGHT,4):\n",
    "      templi = []\n",
    "      for k in range(4):\n",
    "        flag = False\n",
    "        for l in range(4):\n",
    "          if datum.getPixel(x+k,y+l) > 0:\n",
    "            features[(x,y)] = 1\n",
    "            flag = True\n",
    "            break\n",
    "          else:\n",
    "            features[(x,y)] = 0\n",
    "\n",
    "        if flag == True:\n",
    "          break\n",
    "  return features\n",
    "\n",
    "def basicFeatureExtractorFace(datum):\n",
    "  \"\"\"\n",
    "  Returns a set of pixel features indicating whether\n",
    "  each pixel in the provided datum is an edge (1) or no edge (0)\n",
    "  \"\"\"\n",
    "  a = datum.getPixels()\n",
    "\n",
    "  features = util.Counter()\n",
    "  for x in range(FACE_DATUM_WIDTH):\n",
    "    for y in range(FACE_DATUM_HEIGHT):\n",
    "      if datum.getPixel(x, y) > 0:\n",
    "        features[(x,y)] = 1\n",
    "      else:\n",
    "        features[(x,y)] = 0\n",
    "  return features\n",
    "\n",
    "def fiveSquareFeatureExtractorFace(datum):\n",
    "  features = util.Counter()\n",
    "  for x in range(0,FACE_DATUM_WIDTH,5):\n",
    "    for y in range(0,FACE_DATUM_HEIGHT,5):\n",
    "      templi = []\n",
    "      for k in range(5):\n",
    "        flag = False\n",
    "        for l in range(5):\n",
    "          if datum.getPixel(x+k,y+l) > 0:\n",
    "            features[(x,y)] = 1\n",
    "            flag = True\n",
    "            break\n",
    "          else:\n",
    "            features[(x,y)] = 0\n",
    "\n",
    "        if flag == True:\n",
    "          break\n",
    "  return features\n",
    "\n",
    "features = {'digits': basicFeatureExtractorDigit, 'faces': basicFeatureExtractorFace}\n",
    "NewFeatures = {'digits': fourSquareFeatureExtractorDigit, 'faces': fiveSquareFeatureExtractorFace}"
   ]
  },
  {
   "cell_type": "code",
   "execution_count": 6,
   "metadata": {},
   "outputs": [],
   "source": [
    "def prepData(dataset):\n",
    "    numTraining = 5000 if dataset == 'digits' else 451\n",
    "    numTest = 1000 if dataset == 'digits' else 150\n",
    "    global DATUM_WIDTH, DATUM_HEIGHT\n",
    "    # numTest = int(numTest * TEST_PERCENT / 100)\n",
    "    if UseNewFeatureExtractor:\n",
    "        getFeatures = NewFeatures[dataset]\n",
    "    else:\n",
    "        getFeatures = features[dataset]\n",
    "    legalLabels = list(range(10)) if dataset == 'digits' else list(range(2))\n",
    "    DATUM_WIDTH = DIGIT_DATUM_WIDTH if dataset == 'digits' else FACE_DATUM_WIDTH\n",
    "    DATUM_HEIGHT = DIGIT_DATUM_HEIGHT if dataset == 'digits' else FACE_DATUM_HEIGHT\n",
    "    legalLabels = list(range(10)) if dataset == 'digits' else list(range(2))\n",
    "    if(dataset==\"faces\"):\n",
    "        rawTrainingData = samples.loadDataFile(\"data/facedata/facedatatrain\", numTraining,DATUM_WIDTH,DATUM_HEIGHT)\n",
    "        trainingLabels = samples.loadLabelsFile(\"data/facedata/facedatatrainlabels\", numTraining)\n",
    "        rawValidationData = samples.loadDataFile(\"data/facedata/facedatatrain\", numTest,DATUM_WIDTH,DATUM_HEIGHT)\n",
    "        validationLabels = samples.loadLabelsFile(\"data/facedata/facedatatrainlabels\", numTest)\n",
    "        rawTestData = samples.loadDataFile(\"data/facedata/facedatatest\", numTest,DATUM_WIDTH,DATUM_HEIGHT)\n",
    "        testLabels = samples.loadLabelsFile(\"data/facedata/facedatatestlabels\", numTest)\n",
    "    else:\n",
    "        rawTrainingData = samples.loadDataFile(\"data/digitdata/trainingimages\", numTraining,DATUM_WIDTH,DATUM_HEIGHT)\n",
    "        trainingLabels = samples.loadLabelsFile(\"data/digitdata/traininglabels\", numTraining)\n",
    "        rawValidationData = samples.loadDataFile(\"data/digitdata/validationimages\", numTest,DATUM_WIDTH,DATUM_HEIGHT)\n",
    "        validationLabels = samples.loadLabelsFile(\"data/digitdata/validationlabels\", numTest)\n",
    "        rawTestData = samples.loadDataFile(\"data/digitdata/testimages\", numTest,DATUM_WIDTH,DATUM_HEIGHT)\n",
    "        testLabels = samples.loadLabelsFile(\"data/digitdata/testlabels\", numTest)\n",
    "        \n",
    "    return rawTrainingData, trainingLabels, rawValidationData, validationLabels, rawTestData, testLabels, legalLabels, numTraining, getFeatures\n",
    "\n",
    "\n",
    "def sample_data(rawTrainingData, trainingLabels, train_percent, numTraining):\n",
    "    \n",
    "    \n",
    "    # print(len(rawTrainingData))\n",
    "    finalTrainData = []\n",
    "    for i in range(len(rawTrainingData)):\n",
    "        # print(i)\n",
    "        finalTrainData.append((rawTrainingData[i], trainingLabels[i]))\n",
    "        \n",
    "    numTraining = int(numTraining * train_percent / 100)\n",
    "    \n",
    "    finalTrainData = random.sample(finalTrainData, numTraining)\n",
    "        \n",
    "    # finalValidationData = []\n",
    "    # for i in range(len(rawValidationData)):\n",
    "    #     finalValidationData.append((rawValidationData[i], validationLabels[i]))\n",
    "        \n",
    "    # finalTestData = []\n",
    "    # for i in range(len(rawTestData)):\n",
    "    #     finalTestData.append((rawTestData[i], testLabels[i]))\n",
    "    \n",
    "    rawTrainingData = []\n",
    "    trainingLabels = []\n",
    "    for i in range(len(finalTrainData)):\n",
    "        rawTrainingData.append(finalTrainData[i][0])\n",
    "        trainingLabels.append(finalTrainData[i][1])\n",
    "        \n",
    "    return rawTrainingData, trainingLabels#, rawValidationData, validationLabels, rawTestData, testLabels\n",
    "\n",
    "\n",
    "def getDataForClassification(rawTrainingData, trainingLabels, rawValidationData, validationLabels, rawTestData, testLabels, legalLabels, train_percent, numTraining, getFeatures):\n",
    "\n",
    "    sampled_raw_training_data, trainingLabels = sample_data(rawTrainingData, trainingLabels, train_percent, numTraining)\n",
    "    \n",
    "    trainingData = list(map(getFeatures, sampled_raw_training_data))\n",
    "    validationData = list(map(getFeatures, rawValidationData))\n",
    "    testData = list(map(getFeatures, rawTestData))\n",
    "    \n",
    "    return trainingData, trainingLabels, validationData, validationLabels, testData, testLabels, legalLabels\n",
    "    \n",
    "    \n",
    "    "
   ]
  },
  {
   "cell_type": "code",
   "execution_count": 7,
   "metadata": {},
   "outputs": [],
   "source": [
    "def runClassifiers(trainingData, trainingLabels, validationData, validationLabels, testData, testLabels, legalLabels):\n",
    "    results = {}\n",
    "    start = time.time()\n",
    "    model = perceptron.Perceptron(legalLabels, max_iterations=10)\n",
    "    model.train(trainingData, trainingLabels, validationData, validationLabels)\n",
    "    guesses = model.classify(testData)\n",
    "    correct = [guesses[i] == testLabels[i] for i in range(len(testLabels))].count(True)\n",
    "    accuracy = 100 * correct / len(testLabels)\n",
    "    print(\"Perceptron\", time.time() - start)\n",
    "    results['Perceptron'] = accuracy\n",
    "    start = time.time()\n",
    "    model = nb.NaiveBayesClassifier(legalLabels)\n",
    "    model.train(trainingData, trainingLabels, validationData, validationLabels)\n",
    "    guesses = model.classify(testData)\n",
    "    correct = [guesses[i] == testLabels[i] for i in range(len(testLabels))].count(True)\n",
    "    accuracy = 100 * correct / len(testLabels)\n",
    "    print(\"NB\", time.time() - start)\n",
    "    results['NaiveBayes'] = accuracy\n",
    "    \n",
    "    newTrainingData = np.array(list(map(modifyFeatures, trainingData)))\n",
    "    nsamples, nx, ny = newTrainingData.shape\n",
    "    d2_train_dataset = newTrainingData.reshape((nsamples,nx*ny))\n",
    "    \n",
    "    newTestData = np.array(list(map(modifyFeatures, testData)))\n",
    "    nsamples, nx, ny = newTestData.shape\n",
    "    d2_test_dataset = newTestData.reshape((nsamples,nx*ny))\n",
    "    start = time.time()\n",
    "    model = SVC().fit(d2_train_dataset, trainingLabels)\n",
    "    guesses = list(model.predict(d2_test_dataset))\n",
    "    correct = [guesses[i] == testLabels[i] for i in range(len(testLabels))].count(True)\n",
    "    accuracy = 100 * correct / len(testLabels)\n",
    "    \n",
    "    print(\"SVC\", time.time() - start)\n",
    "    results['SVC'] = accuracy\n",
    "    \n",
    "    return results\n",
    "    "
   ]
  },
  {
   "cell_type": "code",
   "execution_count": 8,
   "metadata": {},
   "outputs": [],
   "source": [
    "train_percents = [10, 20, 30, 40, 50, 60, 70, 80, 90, 100]\n",
    "final_results = {x:{x:[] for x in ['Perceptron', 'NaiveBayes', 'SVC']} for x in train_percents}\n",
    "xrawTrainData, xtrainingLabels, rawValidationData, validationLabels, rawTestData, testLabels, legalLabels, numTraining, getFeatures = prepData(dataset='faces')"
   ]
  },
  {
   "cell_type": "code",
   "execution_count": 9,
   "metadata": {},
   "outputs": [
    {
     "data": {
      "text/plain": [
       "451"
      ]
     },
     "execution_count": 9,
     "metadata": {},
     "output_type": "execute_result"
    }
   ],
   "source": [
    "len(xrawTrainData)"
   ]
  },
  {
   "cell_type": "code",
   "execution_count": 10,
   "metadata": {},
   "outputs": [
    {
     "data": {
      "text/plain": [
       "{10: {'Perceptron': [], 'NaiveBayes': [], 'SVC': []},\n",
       " 20: {'Perceptron': [], 'NaiveBayes': [], 'SVC': []},\n",
       " 30: {'Perceptron': [], 'NaiveBayes': [], 'SVC': []},\n",
       " 40: {'Perceptron': [], 'NaiveBayes': [], 'SVC': []},\n",
       " 50: {'Perceptron': [], 'NaiveBayes': [], 'SVC': []},\n",
       " 60: {'Perceptron': [], 'NaiveBayes': [], 'SVC': []},\n",
       " 70: {'Perceptron': [], 'NaiveBayes': [], 'SVC': []},\n",
       " 80: {'Perceptron': [], 'NaiveBayes': [], 'SVC': []},\n",
       " 90: {'Perceptron': [], 'NaiveBayes': [], 'SVC': []},\n",
       " 100: {'Perceptron': [], 'NaiveBayes': [], 'SVC': []}}"
      ]
     },
     "execution_count": 10,
     "metadata": {},
     "output_type": "execute_result"
    }
   ],
   "source": [
    "final_results"
   ]
  },
  {
   "cell_type": "code",
   "execution_count": 11,
   "metadata": {},
   "outputs": [
    {
     "name": "stdout",
     "output_type": "stream",
     "text": [
      "Training Data Size:  10\n",
      "Perceptron 1.6764709949493408\n",
      "NB 1.21565580368042\n",
      "SVC 0.034996986389160156\n",
      "Training Data Size:  20\n",
      "Perceptron 2.5775270462036133\n",
      "NB 1.1754119396209717\n",
      "SVC 0.05995607376098633\n",
      "Training Data Size:  30\n"
     ]
    },
    {
     "ename": "KeyboardInterrupt",
     "evalue": "",
     "output_type": "error",
     "traceback": [
      "\u001b[0;31m---------------------------------------------------------------------------\u001b[0m",
      "\u001b[0;31mKeyboardInterrupt\u001b[0m                         Traceback (most recent call last)",
      "Cell \u001b[0;32mIn [11], line 6\u001b[0m\n\u001b[1;32m      3\u001b[0m \u001b[38;5;28;01mfor\u001b[39;00m _ \u001b[38;5;129;01min\u001b[39;00m \u001b[38;5;28mrange\u001b[39m(\u001b[38;5;241m1\u001b[39m):\n\u001b[1;32m      4\u001b[0m     trainingData, trainingLabels, validationData, validationLabels, testData, testLabels, legalLabels \u001b[38;5;241m=\u001b[39m getDataForClassification(xrawTrainData, xtrainingLabels, rawValidationData, validationLabels, rawTestData, testLabels, legalLabels, percent, numTraining, getFeatures)\n\u001b[0;32m----> 6\u001b[0m     results \u001b[38;5;241m=\u001b[39m runClassifiers(trainingData, trainingLabels, validationData, validationLabels, testData, testLabels, legalLabels)\n\u001b[1;32m      8\u001b[0m     \u001b[38;5;28;01mfor\u001b[39;00m res \u001b[38;5;129;01min\u001b[39;00m results\u001b[38;5;241m.\u001b[39mkeys():\n\u001b[1;32m      9\u001b[0m         final_results[percent][res]\u001b[38;5;241m.\u001b[39mappend(results[res])\n",
      "Cell \u001b[0;32mIn [7], line 5\u001b[0m, in \u001b[0;36mrunClassifiers\u001b[0;34m(trainingData, trainingLabels, validationData, validationLabels, testData, testLabels, legalLabels)\u001b[0m\n\u001b[1;32m      3\u001b[0m start \u001b[38;5;241m=\u001b[39m time\u001b[38;5;241m.\u001b[39mtime()\n\u001b[1;32m      4\u001b[0m model \u001b[38;5;241m=\u001b[39m perceptron\u001b[38;5;241m.\u001b[39mPerceptron(legalLabels, max_iterations\u001b[38;5;241m=\u001b[39m\u001b[38;5;241m10\u001b[39m)\n\u001b[0;32m----> 5\u001b[0m \u001b[43mmodel\u001b[49m\u001b[38;5;241;43m.\u001b[39;49m\u001b[43mtrain\u001b[49m\u001b[43m(\u001b[49m\u001b[43mtrainingData\u001b[49m\u001b[43m,\u001b[49m\u001b[43m \u001b[49m\u001b[43mtrainingLabels\u001b[49m\u001b[43m,\u001b[49m\u001b[43m \u001b[49m\u001b[43mvalidationData\u001b[49m\u001b[43m,\u001b[49m\u001b[43m \u001b[49m\u001b[43mvalidationLabels\u001b[49m\u001b[43m)\u001b[49m\n\u001b[1;32m      6\u001b[0m guesses \u001b[38;5;241m=\u001b[39m model\u001b[38;5;241m.\u001b[39mclassify(testData)\n\u001b[1;32m      7\u001b[0m correct \u001b[38;5;241m=\u001b[39m [guesses[i] \u001b[38;5;241m==\u001b[39m testLabels[i] \u001b[38;5;28;01mfor\u001b[39;00m i \u001b[38;5;129;01min\u001b[39;00m \u001b[38;5;28mrange\u001b[39m(\u001b[38;5;28mlen\u001b[39m(testLabels))]\u001b[38;5;241m.\u001b[39mcount(\u001b[38;5;28;01mTrue\u001b[39;00m)\n",
      "File \u001b[0;32m~/Desktop/Face-and-Digit-Classification/perceptron.py:36\u001b[0m, in \u001b[0;36mPerceptron.train\u001b[0;34m(self, trainingData, trainingLabels, validationData, validationLabels)\u001b[0m\n\u001b[1;32m     34\u001b[0m \u001b[39mfor\u001b[39;00m x \u001b[39min\u001b[39;00m \u001b[39mrange\u001b[39m(\u001b[39m0\u001b[39m,\u001b[39mlen\u001b[39m(trainingData)):\n\u001b[1;32m     35\u001b[0m     \u001b[39mif\u001b[39;00m trainingLabels[x] \u001b[39m!=\u001b[39m \u001b[39mself\u001b[39m\u001b[39m.\u001b[39mclassify([trainingData[x]])[\u001b[39m0\u001b[39m]:\n\u001b[0;32m---> 36\u001b[0m         \u001b[39mself\u001b[39m\u001b[39m.\u001b[39mweights[trainingLabels[x]] \u001b[39m+\u001b[39m\u001b[39m=\u001b[39m trainingData[x]\n\u001b[1;32m     38\u001b[0m         \u001b[39mself\u001b[39m\u001b[39m.\u001b[39mweights[\u001b[39mself\u001b[39m\u001b[39m.\u001b[39mclassify([trainingData[x]])[\u001b[39m0\u001b[39m]] \u001b[39m-\u001b[39m\u001b[39m=\u001b[39m trainingData[x]\n\u001b[1;32m     40\u001b[0m \u001b[39miter\u001b[39m \u001b[39m+\u001b[39m\u001b[39m=\u001b[39m \u001b[39m1\u001b[39m\n",
      "File \u001b[0;32m~/Desktop/Face-and-Digit-Classification/util.py:285\u001b[0m, in \u001b[0;36mCounter.__add__\u001b[0;34m(self, y)\u001b[0m\n\u001b[1;32m    283\u001b[0m \u001b[39mfor\u001b[39;00m key \u001b[39min\u001b[39;00m \u001b[39mself\u001b[39m:\n\u001b[1;32m    284\u001b[0m   \u001b[39mif\u001b[39;00m key \u001b[39min\u001b[39;00m y:\n\u001b[0;32m--> 285\u001b[0m     addend[key] \u001b[39m=\u001b[39m \u001b[39mself\u001b[39;49m[key] \u001b[39m+\u001b[39m y[key]\n\u001b[1;32m    286\u001b[0m   \u001b[39melse\u001b[39;00m:\n\u001b[1;32m    287\u001b[0m     addend[key] \u001b[39m=\u001b[39m \u001b[39mself\u001b[39m[key]\n",
      "File \u001b[0;32m~/Desktop/Face-and-Digit-Classification/util.py:148\u001b[0m, in \u001b[0;36mCounter.__getitem__\u001b[0;34m(self, idx)\u001b[0m\n\u001b[1;32m    147\u001b[0m \u001b[39mdef\u001b[39;00m \u001b[39m__getitem__\u001b[39m(\u001b[39mself\u001b[39m, idx):\n\u001b[0;32m--> 148\u001b[0m   \u001b[39mself\u001b[39;49m\u001b[39m.\u001b[39;49msetdefault(idx, \u001b[39m0\u001b[39;49m)\n\u001b[1;32m    149\u001b[0m   \u001b[39mreturn\u001b[39;00m \u001b[39mdict\u001b[39m\u001b[39m.\u001b[39m\u001b[39m__getitem__\u001b[39m(\u001b[39mself\u001b[39m, idx)\n",
      "\u001b[0;31mKeyboardInterrupt\u001b[0m: "
     ]
    }
   ],
   "source": [
    "for percent in train_percents:\n",
    "    print(\"Training Data Size: \",(percent))\n",
    "    for _ in range(1):\n",
    "        trainingData, trainingLabels, validationData, validationLabels, testData, testLabels, legalLabels = getDataForClassification(xrawTrainData, xtrainingLabels, rawValidationData, validationLabels, rawTestData, testLabels, legalLabels, percent, numTraining, getFeatures)\n",
    "        \n",
    "        results = runClassifiers(trainingData, trainingLabels, validationData, validationLabels, testData, testLabels, legalLabels)\n",
    "        \n",
    "        for res in results.keys():\n",
    "            final_results[percent][res].append(results[res])\n",
    "        \n",
    "        # final_results[percent].append(results)\n",
    "    # print(final_results)\n",
    "    # dill.dump(final_results, open('results_faces.p', 'wb'))\n",
    "    "
   ]
  },
  {
   "cell_type": "code",
   "execution_count": null,
   "metadata": {},
   "outputs": [],
   "source": [
    "dill.dump(final_results, open('results.p', 'wb'))"
   ]
  }
 ],
 "metadata": {
  "kernelspec": {
   "display_name": "Python 3.10.7 64-bit",
   "language": "python",
   "name": "python3"
  },
  "language_info": {
   "codemirror_mode": {
    "name": "ipython",
    "version": 3
   },
   "file_extension": ".py",
   "mimetype": "text/x-python",
   "name": "python",
   "nbconvert_exporter": "python",
   "pygments_lexer": "ipython3",
   "version": "3.10.7"
  },
  "orig_nbformat": 4,
  "vscode": {
   "interpreter": {
    "hash": "b0fa6594d8f4cbf19f97940f81e996739fb7646882a419484c72d19e05852a7e"
   }
  }
 },
 "nbformat": 4,
 "nbformat_minor": 2
}
