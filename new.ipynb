{
 "cells": [
  {
   "cell_type": "code",
   "execution_count": 9,
   "metadata": {},
   "outputs": [
    {
     "name": "stdout",
     "output_type": "stream",
     "text": [
      "Requirement already satisfied: dill in /usr/local/anaconda3/envs/520/lib/python3.7/site-packages (0.3.6)\n"
     ]
    }
   ],
   "source": [
    "import util, perceptron, nb, samples\n",
    "from sklearn.svm import SVC\n",
    "import numpy as np\n",
    "import random\n",
    "!pip install dill\n",
    "import dill\n",
    "import time"
   ]
  },
  {
   "cell_type": "code",
   "execution_count": 2,
   "metadata": {},
   "outputs": [],
   "source": [
    "DIGIT_DATUM_WIDTH=28\n",
    "DIGIT_DATUM_HEIGHT=28\n",
    "FACE_DATUM_WIDTH=60\n",
    "FACE_DATUM_HEIGHT=70\n",
    "\n",
    "DATUM_WIDTH = DIGIT_DATUM_WIDTH\n",
    "DATUM_HEIGHT = DIGIT_DATUM_HEIGHT\n",
    "\n",
    "ITERATIONS = 10\n",
    "DATASET = 'digits' # 'digits' or 'faces'\n",
    "TRAIN_PERCENT = 100\n",
    "TEST_PERCENT = 100\n",
    "CLASSIFIER = 'NaiveBayes' # 'Perceptron' or 'NaiveBayes'\n",
    "UseNewFeatureExtractor = False\n",
    "\n",
    "classifiers = {'Perceptron': perceptron.Perceptron,\n",
    "               'NaiveBayes': nb.NaiveBayesClassifier}\n",
    "\n",
    "\n",
    "\n",
    "\n",
    "numTraining = 5000 if DATASET == 'digits' else 451\n",
    "numTest = 1000 if DATASET == 'digits' else 150\n",
    "# numTraining = int(numTraining * TRAIN_PERCENT / 100)\n",
    "# numTest = int(numTest * TEST_PERCENT / 100)\n",
    "# getFeatures = features[DATASET]"
   ]
  },
  {
   "cell_type": "code",
   "execution_count": 3,
   "metadata": {},
   "outputs": [],
   "source": [
    "def modifyFeatures(datapoint):\n",
    "    global DATUM_WIDTH, DATUM_HEIGHT\n",
    "    data = ([[None for i in range(DATUM_WIDTH)] for j in range(DATUM_HEIGHT)])\n",
    "    for i in range(len(data)):\n",
    "        for j in range(len(data[i])):\n",
    "            data[i][j] = datapoint[(i,j)]\n",
    "    return np.array(data)\n",
    "  \n",
    "  \n",
    "def basicFeatureExtractorDigit(datum):\n",
    "  \"\"\"\n",
    "  Returns a set of pixel features indicating whether\n",
    "  each pixel in the provided datum is white (0) or gray/black (1)\n",
    "  \"\"\"\n",
    "  a = datum.getPixels()\n",
    "\n",
    "  features = util.Counter()\n",
    "  for x in range(DIGIT_DATUM_WIDTH):\n",
    "    for y in range(DIGIT_DATUM_HEIGHT):\n",
    "      if datum.getPixel(x, y) > 0:\n",
    "        features[(x,y)] = 1\n",
    "      else:\n",
    "        features[(x,y)] = 0\n",
    "  return features\n",
    "\n",
    "def fourSquareFeatureExtractorDigit(datum):\n",
    "  features = util.Counter()\n",
    "  for x in range(0,DIGIT_DATUM_WIDTH,4):\n",
    "    for y in range(0,DIGIT_DATUM_HEIGHT,4):\n",
    "      templi = []\n",
    "      for k in range(4):\n",
    "        flag = False\n",
    "        for l in range(4):\n",
    "          if datum.getPixel(x+k,y+l) > 0:\n",
    "            features[(x,y)] = 1\n",
    "            flag = True\n",
    "            break\n",
    "          else:\n",
    "            features[(x,y)] = 0\n",
    "\n",
    "        if flag == True:\n",
    "          break\n",
    "  return features\n",
    "\n",
    "def basicFeatureExtractorFace(datum):\n",
    "  \"\"\"\n",
    "  Returns a set of pixel features indicating whether\n",
    "  each pixel in the provided datum is an edge (1) or no edge (0)\n",
    "  \"\"\"\n",
    "  a = datum.getPixels()\n",
    "\n",
    "  features = util.Counter()\n",
    "  for x in range(FACE_DATUM_WIDTH):\n",
    "    for y in range(FACE_DATUM_HEIGHT):\n",
    "      if datum.getPixel(x, y) > 0:\n",
    "        features[(x,y)] = 1\n",
    "      else:\n",
    "        features[(x,y)] = 0\n",
    "  return features\n",
    "\n",
    "def fiveSquareFeatureExtractorFace(datum):\n",
    "  features = util.Counter()\n",
    "  for x in range(0,FACE_DATUM_WIDTH,5):\n",
    "    for y in range(0,FACE_DATUM_HEIGHT,5):\n",
    "      templi = []\n",
    "      for k in range(5):\n",
    "        flag = False\n",
    "        for l in range(5):\n",
    "          if datum.getPixel(x+k,y+l) > 0:\n",
    "            features[(x,y)] = 1\n",
    "            flag = True\n",
    "            break\n",
    "          else:\n",
    "            features[(x,y)] = 0\n",
    "\n",
    "        if flag == True:\n",
    "          break\n",
    "  return features\n",
    "\n",
    "features = {'digits': basicFeatureExtractorDigit, 'faces': basicFeatureExtractorFace}\n",
    "NewFeatures = {'digits': fourSquareFeatureExtractorDigit, 'faces': fiveSquareFeatureExtractorFace}"
   ]
  },
  {
   "cell_type": "code",
   "execution_count": 4,
   "metadata": {},
   "outputs": [],
   "source": [
    "def prepData(dataset):\n",
    "    numTraining = 5000 if dataset == 'digits' else 451\n",
    "    numTest = 1000 if dataset == 'digits' else 150\n",
    "    global DATUM_WIDTH, DATUM_HEIGHT\n",
    "    # numTest = int(numTest * TEST_PERCENT / 100)\n",
    "    if UseNewFeatureExtractor:\n",
    "        getFeatures = NewFeatures[dataset]\n",
    "    else:\n",
    "        getFeatures = features[dataset]\n",
    "    legalLabels = list(range(10)) if dataset == 'digits' else list(range(2))\n",
    "    DATUM_WIDTH = DIGIT_DATUM_WIDTH if dataset == 'digits' else FACE_DATUM_WIDTH\n",
    "    DATUM_HEIGHT = DIGIT_DATUM_HEIGHT if dataset == 'digits' else FACE_DATUM_HEIGHT\n",
    "    legalLabels = list(range(10)) if dataset == 'digits' else list(range(2))\n",
    "    if(dataset==\"faces\"):\n",
    "        rawTrainingData = samples.loadDataFile(\"data/facedata/facedatatrain\", numTraining,DATUM_WIDTH,DATUM_HEIGHT)\n",
    "        trainingLabels = samples.loadLabelsFile(\"data/facedata/facedatatrainlabels\", numTraining)\n",
    "        rawValidationData = samples.loadDataFile(\"data/facedata/facedatatrain\", numTest,DATUM_WIDTH,DATUM_HEIGHT)\n",
    "        validationLabels = samples.loadLabelsFile(\"data/facedata/facedatatrainlabels\", numTest)\n",
    "        rawTestData = samples.loadDataFile(\"data/facedata/facedatatest\", numTest,DATUM_WIDTH,DATUM_HEIGHT)\n",
    "        testLabels = samples.loadLabelsFile(\"data/facedata/facedatatestlabels\", numTest)\n",
    "    else:\n",
    "        rawTrainingData = samples.loadDataFile(\"data/digitdata/trainingimages\", numTraining,DATUM_WIDTH,DATUM_HEIGHT)\n",
    "        trainingLabels = samples.loadLabelsFile(\"data/digitdata/traininglabels\", numTraining)\n",
    "        rawValidationData = samples.loadDataFile(\"data/digitdata/validationimages\", numTest,DATUM_WIDTH,DATUM_HEIGHT)\n",
    "        validationLabels = samples.loadLabelsFile(\"data/digitdata/validationlabels\", numTest)\n",
    "        rawTestData = samples.loadDataFile(\"data/digitdata/testimages\", numTest,DATUM_WIDTH,DATUM_HEIGHT)\n",
    "        testLabels = samples.loadLabelsFile(\"data/digitdata/testlabels\", numTest)\n",
    "        \n",
    "    return rawTrainingData, trainingLabels, rawValidationData, validationLabels, rawTestData, testLabels, legalLabels, numTraining, getFeatures\n",
    "\n",
    "\n",
    "def sample_data(rawTrainingData, trainingLabels, train_percent, numTraining):\n",
    "    \n",
    "    \n",
    "    # print(len(rawTrainingData))\n",
    "    finalTrainData = []\n",
    "    for i in range(len(rawTrainingData)):\n",
    "        # print(i)\n",
    "        finalTrainData.append((rawTrainingData[i], trainingLabels[i]))\n",
    "        \n",
    "    numTraining = int(numTraining * train_percent / 100)\n",
    "    \n",
    "    finalTrainData = random.sample(finalTrainData, numTraining)\n",
    "        \n",
    "    # finalValidationData = []\n",
    "    # for i in range(len(rawValidationData)):\n",
    "    #     finalValidationData.append((rawValidationData[i], validationLabels[i]))\n",
    "        \n",
    "    # finalTestData = []\n",
    "    # for i in range(len(rawTestData)):\n",
    "    #     finalTestData.append((rawTestData[i], testLabels[i]))\n",
    "    \n",
    "    rawTrainingData = []\n",
    "    trainingLabels = []\n",
    "    for i in range(len(finalTrainData)):\n",
    "        rawTrainingData.append(finalTrainData[i][0])\n",
    "        trainingLabels.append(finalTrainData[i][1])\n",
    "        \n",
    "    return rawTrainingData, trainingLabels#, rawValidationData, validationLabels, rawTestData, testLabels\n",
    "\n",
    "\n",
    "def getDataForClassification(rawTrainingData, trainingLabels, rawValidationData, validationLabels, rawTestData, testLabels, legalLabels, train_percent, numTraining, getFeatures):\n",
    "\n",
    "    sampled_raw_training_data, trainingLabels = sample_data(rawTrainingData, trainingLabels, train_percent, numTraining)\n",
    "    \n",
    "    trainingData = list(map(getFeatures, sampled_raw_training_data))\n",
    "    validationData = list(map(getFeatures, rawValidationData))\n",
    "    testData = list(map(getFeatures, rawTestData))\n",
    "    \n",
    "    return trainingData, trainingLabels, validationData, validationLabels, testData, testLabels, legalLabels\n",
    "    \n",
    "    \n",
    "    "
   ]
  },
  {
   "cell_type": "code",
   "execution_count": 15,
   "metadata": {},
   "outputs": [],
   "source": [
    "def runClassifiers(trainingData, trainingLabels, validationData, validationLabels, testData, testLabels, legalLabels):\n",
    "    results = {}\n",
    "    start = time.time()\n",
    "    model = perceptron.Perceptron(legalLabels, max_iterations=10)\n",
    "    model.train(trainingData, trainingLabels, validationData, validationLabels)\n",
    "    guesses = model.classify(testData)\n",
    "    correct = [guesses[i] == testLabels[i] for i in range(len(testLabels))].count(True)\n",
    "    accuracy = 100 * correct / len(testLabels)\n",
    "    print(\"Perceptron\", time.time() - start)\n",
    "    results['Perceptron'] = accuracy\n",
    "    start = time.time()\n",
    "    model = nb.NaiveBayesClassifier(legalLabels)\n",
    "    model.train(trainingData, trainingLabels, validationData, validationLabels)\n",
    "    guesses = model.classify(testData)\n",
    "    correct = [guesses[i] == testLabels[i] for i in range(len(testLabels))].count(True)\n",
    "    accuracy = 100 * correct / len(testLabels)\n",
    "    print(\"NB\", time.time() - start)\n",
    "    results['NaiveBayes'] = accuracy\n",
    "    \n",
    "    newTrainingData = np.array(list(map(modifyFeatures, trainingData)))\n",
    "    nsamples, nx, ny = newTrainingData.shape\n",
    "    d2_train_dataset = newTrainingData.reshape((nsamples,nx*ny))\n",
    "    \n",
    "    newTestData = np.array(list(map(modifyFeatures, testData)))\n",
    "    nsamples, nx, ny = newTestData.shape\n",
    "    d2_test_dataset = newTestData.reshape((nsamples,nx*ny))\n",
    "    start = time.time()\n",
    "    model = SVC().fit(d2_train_dataset, trainingLabels)\n",
    "    guesses = list(model.predict(d2_test_dataset))\n",
    "    correct = [guesses[i] == testLabels[i] for i in range(len(testLabels))].count(True)\n",
    "    accuracy = 100 * correct / len(testLabels)\n",
    "    \n",
    "    print(\"SVC\", time.time() - start)\n",
    "    results['SVC'] = accuracy\n",
    "    \n",
    "    return results\n",
    "    "
   ]
  },
  {
   "cell_type": "code",
   "execution_count": 16,
   "metadata": {},
   "outputs": [],
   "source": [
    "train_percents = [10, 20, 30, 40, 50, 60, 70, 80, 90, 100]\n",
    "final_results = {x:{x:[] for x in ['Perceptron', 'NaiveBayes', 'SVC']} for x in train_percents}\n",
    "xrawTrainData, xtrainingLabels, rawValidationData, validationLabels, rawTestData, testLabels, legalLabels, numTraining, getFeatures = prepData(dataset='faces')"
   ]
  },
  {
   "cell_type": "code",
   "execution_count": 17,
   "metadata": {},
   "outputs": [
    {
     "data": {
      "text/plain": [
       "451"
      ]
     },
     "execution_count": 17,
     "metadata": {},
     "output_type": "execute_result"
    }
   ],
   "source": [
    "len(xrawTrainData)"
   ]
  },
  {
   "cell_type": "code",
   "execution_count": 18,
   "metadata": {},
   "outputs": [
    {
     "data": {
      "text/plain": [
       "{10: {'Perceptron': [], 'NaiveBayes': [], 'SVC': []},\n",
       " 20: {'Perceptron': [], 'NaiveBayes': [], 'SVC': []},\n",
       " 30: {'Perceptron': [], 'NaiveBayes': [], 'SVC': []},\n",
       " 40: {'Perceptron': [], 'NaiveBayes': [], 'SVC': []},\n",
       " 50: {'Perceptron': [], 'NaiveBayes': [], 'SVC': []},\n",
       " 60: {'Perceptron': [], 'NaiveBayes': [], 'SVC': []},\n",
       " 70: {'Perceptron': [], 'NaiveBayes': [], 'SVC': []},\n",
       " 80: {'Perceptron': [], 'NaiveBayes': [], 'SVC': []},\n",
       " 90: {'Perceptron': [], 'NaiveBayes': [], 'SVC': []},\n",
       " 100: {'Perceptron': [], 'NaiveBayes': [], 'SVC': []}}"
      ]
     },
     "execution_count": 18,
     "metadata": {},
     "output_type": "execute_result"
    }
   ],
   "source": [
    "final_results"
   ]
  },
  {
   "cell_type": "code",
   "execution_count": 20,
   "metadata": {},
   "outputs": [
    {
     "name": "stdout",
     "output_type": "stream",
     "text": [
      "Training Data Size:  10\n",
      "Perceptron 2.478499174118042\n",
      "NB 2.0638840198516846\n",
      "SVC 0.015218973159790039\n",
      "Training Data Size:  20\n",
      "Perceptron 4.4604268074035645\n",
      "NB 2.2103590965270996\n",
      "SVC 0.035069942474365234\n",
      "Training Data Size:  30\n",
      "Perceptron 6.345251083374023\n",
      "NB 2.2855842113494873\n",
      "SVC 0.045966148376464844\n",
      "Training Data Size:  40\n",
      "Perceptron 8.059120893478394\n",
      "NB 2.359499931335449\n",
      "SVC 0.06794071197509766\n",
      "Training Data Size:  50\n",
      "Perceptron 10.079364776611328\n",
      "NB 2.4794869422912598\n",
      "SVC 0.09413814544677734\n",
      "Training Data Size:  60\n",
      "Perceptron 11.89078402519226\n",
      "NB 2.6830928325653076\n",
      "SVC 0.12314963340759277\n",
      "Training Data Size:  70\n",
      "Perceptron 13.820154190063477\n",
      "NB 2.788743019104004\n",
      "SVC 0.16978788375854492\n",
      "Training Data Size:  80\n",
      "Perceptron 15.888485193252563\n",
      "NB 2.8991270065307617\n",
      "SVC 0.19901585578918457\n",
      "Training Data Size:  90\n",
      "Perceptron 17.400527954101562\n",
      "NB 2.7840380668640137\n",
      "SVC 0.29573607444763184\n",
      "Training Data Size:  100\n",
      "Perceptron 19.22606897354126\n",
      "NB 2.97908091545105\n",
      "SVC 0.2904200553894043\n"
     ]
    }
   ],
   "source": [
    "for percent in train_percents:\n",
    "    print(\"Training Data Size: \",(percent))\n",
    "    for _ in range(1):\n",
    "        trainingData, trainingLabels, validationData, validationLabels, testData, testLabels, legalLabels = getDataForClassification(xrawTrainData, xtrainingLabels, rawValidationData, validationLabels, rawTestData, testLabels, legalLabels, percent, numTraining, getFeatures)\n",
    "        \n",
    "        results = runClassifiers(trainingData, trainingLabels, validationData, validationLabels, testData, testLabels, legalLabels)\n",
    "        \n",
    "        for res in results.keys():\n",
    "            final_results[percent][res].append(results[res])\n",
    "        \n",
    "        # final_results[percent].append(results)\n",
    "    # print(final_results)\n",
    "    # dill.dump(final_results, open('results_faces.p', 'wb'))\n",
    "    "
   ]
  },
  {
   "cell_type": "code",
   "execution_count": 9,
   "metadata": {},
   "outputs": [
    {
     "ename": "NameError",
     "evalue": "name 'rawTrainingData' is not defined",
     "output_type": "error",
     "traceback": [
      "\u001b[0;31m---------------------------------------------------------------------------\u001b[0m",
      "\u001b[0;31mNameError\u001b[0m                                 Traceback (most recent call last)",
      "\u001b[0;32m/var/folders/ch/pyk34v6d6d3fcxt64rbxm20m0000gn/T/ipykernel_41237/4135796614.py\u001b[0m in \u001b[0;36m<module>\u001b[0;34m\u001b[0m\n\u001b[0;32m----> 1\u001b[0;31m \u001b[0mlen\u001b[0m\u001b[0;34m(\u001b[0m\u001b[0mrawTrainingData\u001b[0m\u001b[0;34m)\u001b[0m\u001b[0;34m\u001b[0m\u001b[0;34m\u001b[0m\u001b[0m\n\u001b[0m",
      "\u001b[0;31mNameError\u001b[0m: name 'rawTrainingData' is not defined"
     ]
    }
   ],
   "source": [
    "len(rawTrainingData)"
   ]
  },
  {
   "cell_type": "code",
   "execution_count": null,
   "metadata": {},
   "outputs": [
    {
     "data": {
      "text/plain": [
       "[60, 100, 70, 40, 10]"
      ]
     },
     "execution_count": 57,
     "metadata": {},
     "output_type": "execute_result"
    }
   ],
   "source": [
    "random.sample(x, 5)"
   ]
  },
  {
   "cell_type": "code",
   "execution_count": null,
   "metadata": {},
   "outputs": [
    {
     "data": {
      "text/plain": [
       "[10, 20, 30, 40, 50, 60, 70, 80, 90, 100]"
      ]
     },
     "execution_count": 58,
     "metadata": {},
     "output_type": "execute_result"
    }
   ],
   "source": [
    "x"
   ]
  },
  {
   "cell_type": "code",
   "execution_count": null,
   "metadata": {},
   "outputs": [],
   "source": [
    "dill.dump(final_results, open('results.p', 'wb'))"
   ]
  },
  {
   "cell_type": "code",
   "execution_count": 17,
   "metadata": {},
   "outputs": [],
   "source": [
    "x = dill.load(open('results_faces.p', 'rb'))"
   ]
  },
  {
   "cell_type": "code",
   "execution_count": 19,
   "metadata": {},
   "outputs": [
    {
     "data": {
      "text/plain": [
       "{'Perceptron': [87.33333333333333,\n",
       "  86.0,\n",
       "  86.66666666666667,\n",
       "  84.0,\n",
       "  87.33333333333333],\n",
       " 'NaiveBayes': [90.0,\n",
       "  88.66666666666667,\n",
       "  90.0,\n",
       "  91.33333333333333,\n",
       "  89.33333333333333],\n",
       " 'SVC': [88.66666666666667,\n",
       "  89.33333333333333,\n",
       "  91.33333333333333,\n",
       "  89.33333333333333,\n",
       "  91.33333333333333]}"
      ]
     },
     "execution_count": 19,
     "metadata": {},
     "output_type": "execute_result"
    }
   ],
   "source": [
    "x[90]"
   ]
  },
  {
   "cell_type": "code",
   "execution_count": null,
   "metadata": {},
   "outputs": [],
   "source": []
  }
 ],
 "metadata": {
  "kernelspec": {
   "display_name": "Python 3",
   "language": "python",
   "name": "python3"
  },
  "language_info": {
   "codemirror_mode": {
    "name": "ipython",
    "version": 3
   },
   "file_extension": ".py",
   "mimetype": "text/x-python",
   "name": "python",
   "nbconvert_exporter": "python",
   "pygments_lexer": "ipython3",
   "version": "3.10.7 (v3.10.7:6cc6b13308, Sep  5 2022, 14:02:52) [Clang 13.0.0 (clang-1300.0.29.30)]"
  },
  "orig_nbformat": 4,
  "vscode": {
   "interpreter": {
    "hash": "aee8b7b246df8f9039afb4144a1f6fd8d2ca17a180786b69acc140d282b71a49"
   }
  }
 },
 "nbformat": 4,
 "nbformat_minor": 2
}
