{
 "cells": [
  {
   "cell_type": "code",
   "execution_count": 1,
   "metadata": {},
   "outputs": [
    {
     "name": "stdout",
     "output_type": "stream",
     "text": [
      "Requirement already satisfied: dill in /usr/local/anaconda3/envs/520/lib/python3.7/site-packages (0.3.6)\n"
     ]
    }
   ],
   "source": [
    "import util, perceptron, nb, samples\n",
    "from sklearn.svm import SVC\n",
    "import numpy as np\n",
    "import random\n",
    "!pip install dill\n",
    "import dill"
   ]
  },
  {
   "cell_type": "code",
   "execution_count": 2,
   "metadata": {},
   "outputs": [],
   "source": [
    "DIGIT_DATUM_WIDTH=28\n",
    "DIGIT_DATUM_HEIGHT=28\n",
    "FACE_DATUM_WIDTH=60\n",
    "FACE_DATUM_HEIGHT=70\n",
    "\n",
    "DATUM_WIDTH = DIGIT_DATUM_WIDTH\n",
    "DATUM_HEIGHT = DIGIT_DATUM_HEIGHT\n",
    "\n",
    "ITERATIONS = 10\n",
    "DATASET = 'digits' # 'digits' or 'faces'\n",
    "TRAIN_PERCENT = 100\n",
    "TEST_PERCENT = 100\n",
    "CLASSIFIER = 'NaiveBayes' # 'Perceptron' or 'NaiveBayes'\n",
    "\n",
    "classifiers = {'Perceptron': perceptron.Perceptron,\n",
    "               'NaiveBayes': nb.NaiveBayesClassifier}\n",
    "\n",
    "\n",
    "\n",
    "\n",
    "numTraining = 5000 if DATASET == 'digits' else 451\n",
    "numTest = 1000 if DATASET == 'digits' else 150\n",
    "# numTraining = int(numTraining * TRAIN_PERCENT / 100)\n",
    "# numTest = int(numTest * TEST_PERCENT / 100)\n",
    "# getFeatures = features[DATASET]"
   ]
  },
  {
   "cell_type": "code",
   "execution_count": 3,
   "metadata": {},
   "outputs": [],
   "source": [
    "def modifyFeatures(datapoint):\n",
    "    global DATUM_WIDTH, DATUM_HEIGHT\n",
    "    data = ([[None for i in range(DATUM_WIDTH)] for j in range(DATUM_HEIGHT)])\n",
    "    for i in range(len(data)):\n",
    "        for j in range(len(data[i])):\n",
    "            data[i][j] = datapoint[(i,j)]\n",
    "    return np.array(data)\n",
    "  \n",
    "  \n",
    "def basicFeatureExtractorDigit(datum):\n",
    "  \"\"\"\n",
    "  Returns a set of pixel features indicating whether\n",
    "  each pixel in the provided datum is white (0) or gray/black (1)\n",
    "  \"\"\"\n",
    "  a = datum.getPixels()\n",
    "\n",
    "  features = util.Counter()\n",
    "  for x in range(DIGIT_DATUM_WIDTH):\n",
    "    for y in range(DIGIT_DATUM_HEIGHT):\n",
    "      if datum.getPixel(x, y) > 0:\n",
    "        features[(x,y)] = 1\n",
    "      else:\n",
    "        features[(x,y)] = 0\n",
    "  return features\n",
    "\n",
    "def basicFeatureExtractorFace(datum):\n",
    "  \"\"\"\n",
    "  Returns a set of pixel features indicating whether\n",
    "  each pixel in the provided datum is an edge (1) or no edge (0)\n",
    "  \"\"\"\n",
    "  a = datum.getPixels()\n",
    "\n",
    "  features = util.Counter()\n",
    "  for x in range(FACE_DATUM_WIDTH):\n",
    "    for y in range(FACE_DATUM_HEIGHT):\n",
    "      if datum.getPixel(x, y) > 0:\n",
    "        features[(x,y)] = 1\n",
    "      else:\n",
    "        features[(x,y)] = 0\n",
    "  return features\n",
    "\n",
    "features = {'digits': basicFeatureExtractorDigit, 'faces': basicFeatureExtractorFace}"
   ]
  },
  {
   "cell_type": "code",
   "execution_count": 4,
   "metadata": {},
   "outputs": [],
   "source": [
    "def prepData(dataset):\n",
    "    numTraining = 5000 if dataset == 'digits' else 451\n",
    "    numTest = 1000 if dataset == 'digits' else 150\n",
    "    global DATUM_WIDTH, DATUM_HEIGHT\n",
    "    # numTest = int(numTest * TEST_PERCENT / 100)\n",
    "    getFeatures = features[dataset]\n",
    "    legalLabels = list(range(10)) if dataset == 'digits' else list(range(2))\n",
    "    DATUM_WIDTH = DIGIT_DATUM_WIDTH if dataset == 'digits' else FACE_DATUM_WIDTH\n",
    "    DATUM_HEIGHT = DIGIT_DATUM_HEIGHT if dataset == 'digits' else FACE_DATUM_HEIGHT\n",
    "    legalLabels = list(range(10)) if dataset == 'digits' else list(range(2))\n",
    "    if(dataset==\"faces\"):\n",
    "        rawTrainingData = samples.loadDataFile(\"data/facedata/facedatatrain\", numTraining,DATUM_WIDTH,DATUM_HEIGHT)\n",
    "        trainingLabels = samples.loadLabelsFile(\"data/facedata/facedatatrainlabels\", numTraining)\n",
    "        rawValidationData = samples.loadDataFile(\"data/facedata/facedatatrain\", numTest,DATUM_WIDTH,DATUM_HEIGHT)\n",
    "        validationLabels = samples.loadLabelsFile(\"data/facedata/facedatatrainlabels\", numTest)\n",
    "        rawTestData = samples.loadDataFile(\"data/facedata/facedatatest\", numTest,DATUM_WIDTH,DATUM_HEIGHT)\n",
    "        testLabels = samples.loadLabelsFile(\"data/facedata/facedatatestlabels\", numTest)\n",
    "    else:\n",
    "        rawTrainingData = samples.loadDataFile(\"data/digitdata/trainingimages\", numTraining,DATUM_WIDTH,DATUM_HEIGHT)\n",
    "        trainingLabels = samples.loadLabelsFile(\"data/digitdata/traininglabels\", numTraining)\n",
    "        rawValidationData = samples.loadDataFile(\"data/digitdata/validationimages\", numTest,DATUM_WIDTH,DATUM_HEIGHT)\n",
    "        validationLabels = samples.loadLabelsFile(\"data/digitdata/validationlabels\", numTest)\n",
    "        rawTestData = samples.loadDataFile(\"data/digitdata/testimages\", numTest,DATUM_WIDTH,DATUM_HEIGHT)\n",
    "        testLabels = samples.loadLabelsFile(\"data/digitdata/testlabels\", numTest)\n",
    "        \n",
    "    return rawTrainingData, trainingLabels, rawValidationData, validationLabels, rawTestData, testLabels, legalLabels, numTraining, getFeatures\n",
    "\n",
    "\n",
    "def sample_data(rawTrainingData, trainingLabels, train_percent, numTraining):\n",
    "    \n",
    "    \n",
    "    # print(len(rawTrainingData))\n",
    "    finalTrainData = []\n",
    "    for i in range(len(rawTrainingData)):\n",
    "        # print(i)\n",
    "        finalTrainData.append((rawTrainingData[i], trainingLabels[i]))\n",
    "        \n",
    "    numTraining = int(numTraining * train_percent / 100)\n",
    "    \n",
    "    finalTrainData = random.sample(finalTrainData, numTraining)\n",
    "        \n",
    "    # finalValidationData = []\n",
    "    # for i in range(len(rawValidationData)):\n",
    "    #     finalValidationData.append((rawValidationData[i], validationLabels[i]))\n",
    "        \n",
    "    # finalTestData = []\n",
    "    # for i in range(len(rawTestData)):\n",
    "    #     finalTestData.append((rawTestData[i], testLabels[i]))\n",
    "    \n",
    "    rawTrainingData = []\n",
    "    trainingLabels = []\n",
    "    for i in range(len(finalTrainData)):\n",
    "        rawTrainingData.append(finalTrainData[i][0])\n",
    "        trainingLabels.append(finalTrainData[i][1])\n",
    "        \n",
    "    return rawTrainingData, trainingLabels#, rawValidationData, validationLabels, rawTestData, testLabels\n",
    "\n",
    "\n",
    "def getDataForClassification(rawTrainingData, trainingLabels, rawValidationData, validationLabels, rawTestData, testLabels, legalLabels, train_percent, numTraining, getFeatures):\n",
    "\n",
    "    sampled_raw_training_data, trainingLabels = sample_data(rawTrainingData, trainingLabels, train_percent, numTraining)\n",
    "    \n",
    "    trainingData = list(map(getFeatures, sampled_raw_training_data))\n",
    "    validationData = list(map(getFeatures, rawValidationData))\n",
    "    testData = list(map(getFeatures, rawTestData))\n",
    "    \n",
    "    return trainingData, trainingLabels, validationData, validationLabels, testData, testLabels, legalLabels\n",
    "    \n",
    "    \n",
    "    "
   ]
  },
  {
   "cell_type": "code",
   "execution_count": 10,
   "metadata": {},
   "outputs": [],
   "source": [
    "def runClassifiers(trainingData, trainingLabels, validationData, validationLabels, testData, testLabels, legalLabels):\n",
    "    results = {}\n",
    "\n",
    "    model = perceptron.Perceptron(legalLabels, max_iterations=10)\n",
    "    model.train(trainingData, trainingLabels, validationData, validationLabels)\n",
    "    guesses = model.classify(testData)\n",
    "    correct = [guesses[i] == testLabels[i] for i in range(len(testLabels))].count(True)\n",
    "    accuracy = 100 * correct / len(testLabels)\n",
    "    \n",
    "    results['Perceptron'] = accuracy\n",
    "    \n",
    "    model = nb.NaiveBayesClassifier(legalLabels)\n",
    "    model.train(trainingData, trainingLabels, validationData, validationLabels)\n",
    "    guesses = model.classify(testData)\n",
    "    correct = [guesses[i] == testLabels[i] for i in range(len(testLabels))].count(True)\n",
    "    accuracy = 100 * correct / len(testLabels)\n",
    "    \n",
    "    results['NaiveBayes'] = accuracy\n",
    "    \n",
    "    newTrainingData = np.array(list(map(modifyFeatures, trainingData)))\n",
    "    nsamples, nx, ny = newTrainingData.shape\n",
    "    d2_train_dataset = newTrainingData.reshape((nsamples,nx*ny))\n",
    "    \n",
    "    newTestData = np.array(list(map(modifyFeatures, testData)))\n",
    "    nsamples, nx, ny = newTestData.shape\n",
    "    d2_test_dataset = newTestData.reshape((nsamples,nx*ny))\n",
    "    \n",
    "    model = SVC().fit(d2_train_dataset, trainingLabels)\n",
    "    guesses = list(model.predict(d2_test_dataset))\n",
    "    correct = [guesses[i] == testLabels[i] for i in range(len(testLabels))].count(True)\n",
    "    accuracy = 100 * correct / len(testLabels)\n",
    "    \n",
    "    \n",
    "    results['SVC'] = accuracy\n",
    "    \n",
    "    return results\n",
    "    "
   ]
  },
  {
   "cell_type": "code",
   "execution_count": 6,
   "metadata": {},
   "outputs": [],
   "source": [
    "train_percents = [10, 20, 30, 40, 50, 60, 70, 80, 90, 100]\n",
    "final_results = {x:[] for x in train_percents}\n",
    "xrawTrainData, xtrainingLabels, rawValidationData, validationLabels, rawTestData, testLabels, legalLabels, numTraining, getFeatures = prepData(dataset='digits')"
   ]
  },
  {
   "cell_type": "code",
   "execution_count": 7,
   "metadata": {},
   "outputs": [
    {
     "name": "stdout",
     "output_type": "stream",
     "text": [
      "Training Data Size:  500\n",
      "{10: [{'Perceptron': 58.0, 'NaiveBayes': 72.2, 'SVC': 85.1}], 20: [], 30: [], 40: [], 50: [], 60: [], 70: [], 80: [], 90: [], 100: []}\n",
      "Training Data Size:  1000\n"
     ]
    },
    {
     "ename": "KeyboardInterrupt",
     "evalue": "",
     "output_type": "error",
     "traceback": [
      "\u001b[0;31m---------------------------------------------------------------------------\u001b[0m",
      "\u001b[0;31mKeyboardInterrupt\u001b[0m                         Traceback (most recent call last)",
      "\u001b[0;32m/var/folders/ch/pyk34v6d6d3fcxt64rbxm20m0000gn/T/ipykernel_34942/3356821763.py\u001b[0m in \u001b[0;36m<module>\u001b[0;34m\u001b[0m\n\u001b[1;32m      2\u001b[0m     \u001b[0mtrainingData\u001b[0m\u001b[0;34m,\u001b[0m \u001b[0mtrainingLabels\u001b[0m\u001b[0;34m,\u001b[0m \u001b[0mvalidationData\u001b[0m\u001b[0;34m,\u001b[0m \u001b[0mvalidationLabels\u001b[0m\u001b[0;34m,\u001b[0m \u001b[0mtestData\u001b[0m\u001b[0;34m,\u001b[0m \u001b[0mtestLabels\u001b[0m\u001b[0;34m,\u001b[0m \u001b[0mlegalLabels\u001b[0m \u001b[0;34m=\u001b[0m \u001b[0mgetDataForClassification\u001b[0m\u001b[0;34m(\u001b[0m\u001b[0mxrawTrainData\u001b[0m\u001b[0;34m,\u001b[0m \u001b[0mxtrainingLabels\u001b[0m\u001b[0;34m,\u001b[0m \u001b[0mrawValidationData\u001b[0m\u001b[0;34m,\u001b[0m \u001b[0mvalidationLabels\u001b[0m\u001b[0;34m,\u001b[0m \u001b[0mrawTestData\u001b[0m\u001b[0;34m,\u001b[0m \u001b[0mtestLabels\u001b[0m\u001b[0;34m,\u001b[0m \u001b[0mlegalLabels\u001b[0m\u001b[0;34m,\u001b[0m \u001b[0mpercent\u001b[0m\u001b[0;34m,\u001b[0m \u001b[0mnumTraining\u001b[0m\u001b[0;34m,\u001b[0m \u001b[0mgetFeatures\u001b[0m\u001b[0;34m)\u001b[0m\u001b[0;34m\u001b[0m\u001b[0;34m\u001b[0m\u001b[0m\n\u001b[1;32m      3\u001b[0m     \u001b[0mprint\u001b[0m\u001b[0;34m(\u001b[0m\u001b[0;34m\"Training Data Size: \"\u001b[0m\u001b[0;34m,\u001b[0m\u001b[0mlen\u001b[0m\u001b[0;34m(\u001b[0m\u001b[0mtrainingData\u001b[0m\u001b[0;34m)\u001b[0m\u001b[0;34m)\u001b[0m\u001b[0;34m\u001b[0m\u001b[0;34m\u001b[0m\u001b[0m\n\u001b[0;32m----> 4\u001b[0;31m     \u001b[0mresults\u001b[0m \u001b[0;34m=\u001b[0m \u001b[0mrunClassifiers\u001b[0m\u001b[0;34m(\u001b[0m\u001b[0mtrainingData\u001b[0m\u001b[0;34m,\u001b[0m \u001b[0mtrainingLabels\u001b[0m\u001b[0;34m,\u001b[0m \u001b[0mvalidationData\u001b[0m\u001b[0;34m,\u001b[0m \u001b[0mvalidationLabels\u001b[0m\u001b[0;34m,\u001b[0m \u001b[0mtestData\u001b[0m\u001b[0;34m,\u001b[0m \u001b[0mtestLabels\u001b[0m\u001b[0;34m,\u001b[0m \u001b[0mlegalLabels\u001b[0m\u001b[0;34m)\u001b[0m\u001b[0;34m\u001b[0m\u001b[0;34m\u001b[0m\u001b[0m\n\u001b[0m\u001b[1;32m      5\u001b[0m \u001b[0;34m\u001b[0m\u001b[0m\n\u001b[1;32m      6\u001b[0m     \u001b[0mfinal_results\u001b[0m\u001b[0;34m[\u001b[0m\u001b[0mpercent\u001b[0m\u001b[0;34m]\u001b[0m\u001b[0;34m.\u001b[0m\u001b[0mappend\u001b[0m\u001b[0;34m(\u001b[0m\u001b[0mresults\u001b[0m\u001b[0;34m)\u001b[0m\u001b[0;34m\u001b[0m\u001b[0;34m\u001b[0m\u001b[0m\n",
      "\u001b[0;32m/var/folders/ch/pyk34v6d6d3fcxt64rbxm20m0000gn/T/ipykernel_34942/847796551.py\u001b[0m in \u001b[0;36mrunClassifiers\u001b[0;34m(trainingData, trainingLabels, validationData, validationLabels, testData, testLabels, legalLabels)\u001b[0m\n\u001b[1;32m     11\u001b[0m \u001b[0;34m\u001b[0m\u001b[0m\n\u001b[1;32m     12\u001b[0m     \u001b[0mmodel\u001b[0m \u001b[0;34m=\u001b[0m \u001b[0mnb\u001b[0m\u001b[0;34m.\u001b[0m\u001b[0mNaiveBayesClassifier\u001b[0m\u001b[0;34m(\u001b[0m\u001b[0mlegalLabels\u001b[0m\u001b[0;34m)\u001b[0m\u001b[0;34m\u001b[0m\u001b[0;34m\u001b[0m\u001b[0m\n\u001b[0;32m---> 13\u001b[0;31m     \u001b[0mmodel\u001b[0m\u001b[0;34m.\u001b[0m\u001b[0mtrain\u001b[0m\u001b[0;34m(\u001b[0m\u001b[0mtrainingData\u001b[0m\u001b[0;34m,\u001b[0m \u001b[0mtrainingLabels\u001b[0m\u001b[0;34m,\u001b[0m \u001b[0mvalidationData\u001b[0m\u001b[0;34m,\u001b[0m \u001b[0mvalidationLabels\u001b[0m\u001b[0;34m)\u001b[0m\u001b[0;34m\u001b[0m\u001b[0;34m\u001b[0m\u001b[0m\n\u001b[0m\u001b[1;32m     14\u001b[0m     \u001b[0mguesses\u001b[0m \u001b[0;34m=\u001b[0m \u001b[0mmodel\u001b[0m\u001b[0;34m.\u001b[0m\u001b[0mclassify\u001b[0m\u001b[0;34m(\u001b[0m\u001b[0mtestData\u001b[0m\u001b[0;34m)\u001b[0m\u001b[0;34m\u001b[0m\u001b[0;34m\u001b[0m\u001b[0m\n\u001b[1;32m     15\u001b[0m     \u001b[0mcorrect\u001b[0m \u001b[0;34m=\u001b[0m \u001b[0;34m[\u001b[0m\u001b[0mguesses\u001b[0m\u001b[0;34m[\u001b[0m\u001b[0mi\u001b[0m\u001b[0;34m]\u001b[0m \u001b[0;34m==\u001b[0m \u001b[0mtestLabels\u001b[0m\u001b[0;34m[\u001b[0m\u001b[0mi\u001b[0m\u001b[0;34m]\u001b[0m \u001b[0;32mfor\u001b[0m \u001b[0mi\u001b[0m \u001b[0;32min\u001b[0m \u001b[0mrange\u001b[0m\u001b[0;34m(\u001b[0m\u001b[0mlen\u001b[0m\u001b[0;34m(\u001b[0m\u001b[0mtestLabels\u001b[0m\u001b[0;34m)\u001b[0m\u001b[0;34m)\u001b[0m\u001b[0;34m]\u001b[0m\u001b[0;34m.\u001b[0m\u001b[0mcount\u001b[0m\u001b[0;34m(\u001b[0m\u001b[0;32mTrue\u001b[0m\u001b[0;34m)\u001b[0m\u001b[0;34m\u001b[0m\u001b[0;34m\u001b[0m\u001b[0m\n",
      "\u001b[0;32m~/Projects/CS520/Project/Final/Face-and-Digit-Classification/nb.py\u001b[0m in \u001b[0;36mtrain\u001b[0;34m(self, trainingData, trainingLabels, validationData, validationLabels)\u001b[0m\n\u001b[1;32m     50\u001b[0m             \u001b[0mkgrid\u001b[0m \u001b[0;34m=\u001b[0m \u001b[0;34m[\u001b[0m\u001b[0mself\u001b[0m\u001b[0;34m.\u001b[0m\u001b[0mk\u001b[0m\u001b[0;34m]\u001b[0m\u001b[0;34m\u001b[0m\u001b[0;34m\u001b[0m\u001b[0m\n\u001b[1;32m     51\u001b[0m \u001b[0;34m\u001b[0m\u001b[0m\n\u001b[0;32m---> 52\u001b[0;31m         \u001b[0mself\u001b[0m\u001b[0;34m.\u001b[0m\u001b[0mtrainAndTune\u001b[0m\u001b[0;34m(\u001b[0m\u001b[0mtrainingData\u001b[0m\u001b[0;34m,\u001b[0m \u001b[0mtrainingLabels\u001b[0m\u001b[0;34m,\u001b[0m \u001b[0mvalidationData\u001b[0m\u001b[0;34m,\u001b[0m \u001b[0mvalidationLabels\u001b[0m\u001b[0;34m,\u001b[0m \u001b[0mkgrid\u001b[0m\u001b[0;34m)\u001b[0m\u001b[0;34m\u001b[0m\u001b[0;34m\u001b[0m\u001b[0m\n\u001b[0m\u001b[1;32m     53\u001b[0m \u001b[0;34m\u001b[0m\u001b[0m\n\u001b[1;32m     54\u001b[0m     \u001b[0;32mdef\u001b[0m \u001b[0mtrainAndTune\u001b[0m\u001b[0;34m(\u001b[0m\u001b[0mself\u001b[0m\u001b[0;34m,\u001b[0m \u001b[0mtrainingData\u001b[0m\u001b[0;34m,\u001b[0m \u001b[0mtrainingLabels\u001b[0m\u001b[0;34m,\u001b[0m \u001b[0mvalidationData\u001b[0m\u001b[0;34m,\u001b[0m \u001b[0mvalidationLabels\u001b[0m\u001b[0;34m,\u001b[0m \u001b[0mkgrid\u001b[0m\u001b[0;34m)\u001b[0m\u001b[0;34m:\u001b[0m\u001b[0;34m\u001b[0m\u001b[0;34m\u001b[0m\u001b[0m\n",
      "\u001b[0;32m~/Projects/CS520/Project/Final/Face-and-Digit-Classification/nb.py\u001b[0m in \u001b[0;36mtrainAndTune\u001b[0;34m(self, trainingData, trainingLabels, validationData, validationLabels, kgrid)\u001b[0m\n\u001b[1;32m    111\u001b[0m \u001b[0;34m\u001b[0m\u001b[0m\n\u001b[1;32m    112\u001b[0m             \u001b[0;31m# evaluating performance on validation set\u001b[0m\u001b[0;34m\u001b[0m\u001b[0;34m\u001b[0m\u001b[0;34m\u001b[0m\u001b[0m\n\u001b[0;32m--> 113\u001b[0;31m             \u001b[0mpredictions\u001b[0m \u001b[0;34m=\u001b[0m \u001b[0mself\u001b[0m\u001b[0;34m.\u001b[0m\u001b[0mclassify\u001b[0m\u001b[0;34m(\u001b[0m\u001b[0mvalidationData\u001b[0m\u001b[0;34m)\u001b[0m\u001b[0;34m\u001b[0m\u001b[0;34m\u001b[0m\u001b[0m\n\u001b[0m\u001b[1;32m    114\u001b[0m             \u001b[0maccuracyCount\u001b[0m \u001b[0;34m=\u001b[0m  \u001b[0;34m[\u001b[0m\u001b[0mpredictions\u001b[0m\u001b[0;34m[\u001b[0m\u001b[0mi\u001b[0m\u001b[0;34m]\u001b[0m \u001b[0;34m==\u001b[0m \u001b[0mvalidationLabels\u001b[0m\u001b[0;34m[\u001b[0m\u001b[0mi\u001b[0m\u001b[0;34m]\u001b[0m \u001b[0;32mfor\u001b[0m \u001b[0mi\u001b[0m \u001b[0;32min\u001b[0m \u001b[0mrange\u001b[0m\u001b[0;34m(\u001b[0m\u001b[0mlen\u001b[0m\u001b[0;34m(\u001b[0m\u001b[0mvalidationLabels\u001b[0m\u001b[0;34m)\u001b[0m\u001b[0;34m)\u001b[0m\u001b[0;34m]\u001b[0m\u001b[0;34m.\u001b[0m\u001b[0mcount\u001b[0m\u001b[0;34m(\u001b[0m\u001b[0;32mTrue\u001b[0m\u001b[0;34m)\u001b[0m\u001b[0;34m\u001b[0m\u001b[0;34m\u001b[0m\u001b[0m\n\u001b[1;32m    115\u001b[0m \u001b[0;34m\u001b[0m\u001b[0m\n",
      "\u001b[0;32m~/Projects/CS520/Project/Final/Face-and-Digit-Classification/nb.py\u001b[0m in \u001b[0;36mclassify\u001b[0;34m(self, testData)\u001b[0m\n\u001b[1;32m    129\u001b[0m         \u001b[0mself\u001b[0m\u001b[0;34m.\u001b[0m\u001b[0mposteriors\u001b[0m \u001b[0;34m=\u001b[0m \u001b[0;34m[\u001b[0m\u001b[0;34m]\u001b[0m \u001b[0;31m# Log posteriors are stored for later data analysis (autograder).\u001b[0m\u001b[0;34m\u001b[0m\u001b[0;34m\u001b[0m\u001b[0m\n\u001b[1;32m    130\u001b[0m         \u001b[0;32mfor\u001b[0m \u001b[0mdatum\u001b[0m \u001b[0;32min\u001b[0m \u001b[0mtestData\u001b[0m\u001b[0;34m:\u001b[0m\u001b[0;34m\u001b[0m\u001b[0;34m\u001b[0m\u001b[0m\n\u001b[0;32m--> 131\u001b[0;31m             \u001b[0mposterior\u001b[0m \u001b[0;34m=\u001b[0m \u001b[0mself\u001b[0m\u001b[0;34m.\u001b[0m\u001b[0mcalculateLogJointProbabilities\u001b[0m\u001b[0;34m(\u001b[0m\u001b[0mdatum\u001b[0m\u001b[0;34m)\u001b[0m\u001b[0;34m\u001b[0m\u001b[0;34m\u001b[0m\u001b[0m\n\u001b[0m\u001b[1;32m    132\u001b[0m             \u001b[0mguesses\u001b[0m\u001b[0;34m.\u001b[0m\u001b[0mappend\u001b[0m\u001b[0;34m(\u001b[0m\u001b[0mposterior\u001b[0m\u001b[0;34m.\u001b[0m\u001b[0margMax\u001b[0m\u001b[0;34m(\u001b[0m\u001b[0;34m)\u001b[0m\u001b[0;34m)\u001b[0m\u001b[0;34m\u001b[0m\u001b[0;34m\u001b[0m\u001b[0m\n\u001b[1;32m    133\u001b[0m             \u001b[0mself\u001b[0m\u001b[0;34m.\u001b[0m\u001b[0mposteriors\u001b[0m\u001b[0;34m.\u001b[0m\u001b[0mappend\u001b[0m\u001b[0;34m(\u001b[0m\u001b[0mposterior\u001b[0m\u001b[0;34m)\u001b[0m\u001b[0;34m\u001b[0m\u001b[0;34m\u001b[0m\u001b[0m\n",
      "\u001b[0;32m~/Projects/CS520/Project/Final/Face-and-Digit-Classification/nb.py\u001b[0m in \u001b[0;36mcalculateLogJointProbabilities\u001b[0;34m(self, datum)\u001b[0m\n\u001b[1;32m    146\u001b[0m         \u001b[0;32mfor\u001b[0m \u001b[0mlabel\u001b[0m \u001b[0;32min\u001b[0m \u001b[0mself\u001b[0m\u001b[0;34m.\u001b[0m\u001b[0mlegalLabels\u001b[0m\u001b[0;34m:\u001b[0m\u001b[0;34m\u001b[0m\u001b[0;34m\u001b[0m\u001b[0m\n\u001b[1;32m    147\u001b[0m             \u001b[0mlogJoint\u001b[0m\u001b[0;34m[\u001b[0m\u001b[0mlabel\u001b[0m\u001b[0;34m]\u001b[0m \u001b[0;34m=\u001b[0m \u001b[0mmath\u001b[0m\u001b[0;34m.\u001b[0m\u001b[0mlog\u001b[0m\u001b[0;34m(\u001b[0m\u001b[0mself\u001b[0m\u001b[0;34m.\u001b[0m\u001b[0mprior\u001b[0m\u001b[0;34m[\u001b[0m\u001b[0mlabel\u001b[0m\u001b[0;34m]\u001b[0m\u001b[0;34m)\u001b[0m\u001b[0;34m\u001b[0m\u001b[0;34m\u001b[0m\u001b[0m\n\u001b[0;32m--> 148\u001b[0;31m             \u001b[0;32mfor\u001b[0m \u001b[0mfeat\u001b[0m\u001b[0;34m,\u001b[0m \u001b[0mvalue\u001b[0m \u001b[0;32min\u001b[0m \u001b[0mlist\u001b[0m\u001b[0;34m(\u001b[0m\u001b[0mdatum\u001b[0m\u001b[0;34m.\u001b[0m\u001b[0mitems\u001b[0m\u001b[0;34m(\u001b[0m\u001b[0;34m)\u001b[0m\u001b[0;34m)\u001b[0m\u001b[0;34m:\u001b[0m\u001b[0;34m\u001b[0m\u001b[0;34m\u001b[0m\u001b[0m\n\u001b[0m\u001b[1;32m    149\u001b[0m                 \u001b[0;32mif\u001b[0m \u001b[0mvalue\u001b[0m \u001b[0;34m>\u001b[0m \u001b[0;36m0\u001b[0m\u001b[0;34m:\u001b[0m\u001b[0;34m\u001b[0m\u001b[0;34m\u001b[0m\u001b[0m\n\u001b[1;32m    150\u001b[0m                     \u001b[0mlogJoint\u001b[0m\u001b[0;34m[\u001b[0m\u001b[0mlabel\u001b[0m\u001b[0;34m]\u001b[0m \u001b[0;34m+=\u001b[0m \u001b[0mmath\u001b[0m\u001b[0;34m.\u001b[0m\u001b[0mlog\u001b[0m\u001b[0;34m(\u001b[0m\u001b[0mself\u001b[0m\u001b[0;34m.\u001b[0m\u001b[0mconditionalProb\u001b[0m\u001b[0;34m[\u001b[0m\u001b[0mfeat\u001b[0m\u001b[0;34m,\u001b[0m\u001b[0mlabel\u001b[0m\u001b[0;34m]\u001b[0m\u001b[0;34m)\u001b[0m\u001b[0;34m\u001b[0m\u001b[0;34m\u001b[0m\u001b[0m\n",
      "\u001b[0;31mKeyboardInterrupt\u001b[0m: "
     ]
    }
   ],
   "source": [
    "for percent in train_percents:\n",
    "    trainingData, trainingLabels, validationData, validationLabels, testData, testLabels, legalLabels = getDataForClassification(xrawTrainData, xtrainingLabels, rawValidationData, validationLabels, rawTestData, testLabels, legalLabels, percent, numTraining, getFeatures)\n",
    "    print(\"Training Data Size: \",len(trainingData))\n",
    "    results = runClassifiers(trainingData, trainingLabels, validationData, validationLabels, testData, testLabels, legalLabels)\n",
    "    \n",
    "    final_results[percent].append(results)\n",
    "    print(final_results)\n",
    "    dill.dump(final_results, open('results.p', 'wb'))\n",
    "    "
   ]
  },
  {
   "cell_type": "code",
   "execution_count": null,
   "metadata": {},
   "outputs": [
    {
     "data": {
      "text/plain": [
       "5000"
      ]
     },
     "execution_count": 59,
     "metadata": {},
     "output_type": "execute_result"
    }
   ],
   "source": [
    "len(rawTrainingData)"
   ]
  },
  {
   "cell_type": "code",
   "execution_count": 57,
   "metadata": {},
   "outputs": [
    {
     "data": {
      "text/plain": [
       "[60, 100, 70, 40, 10]"
      ]
     },
     "execution_count": 57,
     "metadata": {},
     "output_type": "execute_result"
    }
   ],
   "source": [
    "random.sample(x, 5)"
   ]
  },
  {
   "cell_type": "code",
   "execution_count": 58,
   "metadata": {},
   "outputs": [
    {
     "data": {
      "text/plain": [
       "[10, 20, 30, 40, 50, 60, 70, 80, 90, 100]"
      ]
     },
     "execution_count": 58,
     "metadata": {},
     "output_type": "execute_result"
    }
   ],
   "source": [
    "x"
   ]
  },
  {
   "cell_type": "code",
   "execution_count": 82,
   "metadata": {},
   "outputs": [],
   "source": [
    "dill.dump(final_results, open('results.p', 'wb'))"
   ]
  },
  {
   "cell_type": "code",
   "execution_count": 8,
   "metadata": {},
   "outputs": [],
   "source": [
    "x = dill.load(open('results.p', 'rb'))"
   ]
  },
  {
   "cell_type": "code",
   "execution_count": 9,
   "metadata": {},
   "outputs": [
    {
     "data": {
      "text/plain": [
       "{10: [{'Perceptron': 58.0, 'NaiveBayes': 72.2, 'SVC': 85.1}],\n",
       " 20: [],\n",
       " 30: [],\n",
       " 40: [],\n",
       " 50: [],\n",
       " 60: [],\n",
       " 70: [],\n",
       " 80: [],\n",
       " 90: [],\n",
       " 100: []}"
      ]
     },
     "execution_count": 9,
     "metadata": {},
     "output_type": "execute_result"
    }
   ],
   "source": [
    "x"
   ]
  },
  {
   "cell_type": "code",
   "execution_count": null,
   "metadata": {},
   "outputs": [],
   "source": []
  }
 ],
 "metadata": {
  "kernelspec": {
   "display_name": "Python 3.7.15 ('520')",
   "language": "python",
   "name": "python3"
  },
  "language_info": {
   "codemirror_mode": {
    "name": "ipython",
    "version": 3
   },
   "file_extension": ".py",
   "mimetype": "text/x-python",
   "name": "python",
   "nbconvert_exporter": "python",
   "pygments_lexer": "ipython3",
   "version": "3.7.15"
  },
  "orig_nbformat": 4,
  "vscode": {
   "interpreter": {
    "hash": "43f9b55965bbaea6174108c2c76162f3be9f14dfec06e67a4afd6bceaf9c8251"
   }
  }
 },
 "nbformat": 4,
 "nbformat_minor": 2
}
